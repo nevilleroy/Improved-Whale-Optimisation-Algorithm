{
 "cells": [
  {
   "cell_type": "code",
   "execution_count": 23,
   "id": "3509a8d8",
   "metadata": {},
   "outputs": [],
   "source": [
    "import argparse\n",
    "import datetime\n",
    "import matplotlib\n",
    "from src.animate_scatter import AnimateScatter\n",
    "from src.whale_optimization import WhaleOptimization\n",
    "import numpy as np\n",
    "import matplotlib.pyplot as plt"
   ]
  },
  {
   "cell_type": "code",
   "execution_count": 24,
   "id": "f8ba4d1e",
   "metadata": {},
   "outputs": [],
   "source": [
    "def eggholder(X, Y):\n",
    "    y = Y + 47.0\n",
    "    a = (-1.0) * (y) * np.sin(np.sqrt(np.absolute((X / 2.0) + y)))\n",
    "    b = (-1.0) * X * np.sin(np.sqrt(np.absolute(X - y)))\n",
    "    return a + b\n",
    "\n",
    "\n",
    "def booth(X, Y):\n",
    "    return ((X) + (2.0 * Y) - 7.0) ** 2 + ((2.0 * X) + (Y) - 5.0) ** 2\n",
    "\n",
    "\n",
    "def matyas(X, Y):\n",
    "    return (0.26 * (X ** 2 + Y ** 2)) - (0.48 * X * Y)\n",
    "\n",
    "\n",
    "def levi(X, Y):\n",
    "    A = np.sin(3.0 * np.pi * X) ** 2\n",
    "    B = ((X - 1) ** 2) * (1 + np.sin(3.0 * np.pi * Y) ** 2)\n",
    "    C = ((Y - 1) ** 2) * (1 + np.sin(2.0 * np.pi * Y) ** 2)\n",
    "    return A + B + C\n"
   ]
  },
  {
   "cell_type": "code",
   "execution_count": 25,
   "id": "7f70b136",
   "metadata": {},
   "outputs": [],
   "source": [
    "def plot_graph(opt_alg) : \n",
    "    \n",
    "    best_fitness = []\n",
    "    for sol in opt_alg.best_solutions:\n",
    "        best_fitness.append(sol[0])\n",
    "\n",
    "    plt.plot([(i + 1) for i in range(len(best_fitness))], best_fitness, c='b')\n",
    "    plt.xlabel('Iterations')\n",
    "    plt.ylabel('Fitness')\n",
    "    plt.show()\n",
    "    print(\"\\n\\n\")"
   ]
  },
  {
   "cell_type": "code",
   "execution_count": 26,
   "id": "f973826b",
   "metadata": {},
   "outputs": [],
   "source": [
    "def main():\n",
    "\n",
    "    nsols = 50\n",
    "    ngens = 30\n",
    "\n",
    "    start_time = datetime.datetime.now()\n",
    "\n",
    "    test_functions = {\n",
    "        'eggholder': eggholder,\n",
    "        'booth': booth,\n",
    "        'matyas': matyas,\n",
    "        'levi': levi\n",
    "    }\n",
    "\n",
    "    function_constraints = {\n",
    "        'eggholder': 512.0,\n",
    "        'booth': 10.0,\n",
    "        'matyas': 10.0,\n",
    "        'levi': 10.0\n",
    "    }\n",
    "    \n",
    "    \n",
    "    fnc = input(\"Enter function (booth, matyas, levi, eggholder): \")\n",
    "    func = test_functions[fnc]\n",
    "    \n",
    "\n",
    "    C = function_constraints[fnc]\n",
    "\n",
    "    algorithm_mode = input(\"Enter mode (original, optimised): \")\n",
    "    constraints = [[-C, C], [-C, C]]\n",
    "\n",
    "    opt_func = func\n",
    "\n",
    "    b = 0.5\n",
    "    a = 2.0\n",
    "    a_step = a / ngens\n",
    "    \n",
    "    r = 0.25\n",
    "    t = 0.1\n",
    "    \n",
    "    maximize = False\n",
    "    opt_alg = WhaleOptimization(opt_func, constraints, algorithm_mode, nsols, b, a, a_step, maximize)\n",
    "    solutions = opt_alg.get_solutions()\n",
    "#     colors = [[1.0, 1.0, 1.0] for _ in range(nsols)]\n",
    "\n",
    "#     a_scatter = AnimateScatter(constraints[0][0],\n",
    "#                                constraints[0][1],\n",
    "#                                constraints[1][0],\n",
    "#                                constraints[1][1],\n",
    "#                                solutions, colors, opt_func, r, t)\n",
    "\n",
    "    for _ in range(ngens):\n",
    "        opt_alg.optimize()\n",
    "        solutions = opt_alg.get_solutions()\n",
    "#         a_scatter.update(solutions)\n",
    "\n",
    "    opt_alg.print_best_solutions()\n",
    "    opt_alg.print_all_members()\n",
    "    print(\"RunTime: \" + str(datetime.datetime.now() - start_time))\n",
    "    plot_graph(opt_alg)"
   ]
  },
  {
   "cell_type": "code",
   "execution_count": 30,
   "id": "17c20fe6",
   "metadata": {},
   "outputs": [
    {
     "name": "stdout",
     "output_type": "stream",
     "text": [
      "Enter function (booth, matyas, levi, eggholder): matyas\n",
      "Enter mode (original, optimised): optimised\n",
      "generation best solution history\n",
      "([fitness], [solution])\n",
      "(0.10707865485322365, array([-1.57863306, -1.66502118]))\n",
      "(0.10707865485322365, array([-1.57863306, -1.66502118]))\n",
      "(0.01609286771195448, array([-0.63180511, -0.52985972]))\n",
      "(0.01609286771195448, array([-0.63180511, -0.52985972]))\n",
      "(0.01609286771195448, array([-0.63180511, -0.52985972]))\n",
      "(0.01609286771195448, array([-0.63180511, -0.52985972]))\n",
      "(0.01609286771195448, array([-0.63180511, -0.52985972]))\n",
      "(0.01609286771195448, array([-0.63180511, -0.52985972]))\n",
      "(0.01609286771195448, array([-0.63180511, -0.52985972]))\n",
      "(0.014832936257334978, array([-0.59960161, -0.61565568]))\n",
      "(0.014832936257334978, array([-0.59960161, -0.61565568]))\n",
      "(0.014485934925808935, array([-0.56403835, -0.6136729 ]))\n",
      "(0.014485934925808935, array([-0.56403835, -0.6136729 ]))\n",
      "(0.0005818912890913396, array([-0.0555181 , -0.09346226]))\n",
      "(0.0005818912890913396, array([-0.0555181 , -0.09346226]))\n",
      "(0.0005818912890913396, array([-0.0555181 , -0.09346226]))\n",
      "(0.0005818912890913396, array([-0.0555181 , -0.09346226]))\n",
      "(0.0005818912890913396, array([-0.0555181 , -0.09346226]))\n",
      "(5.18428245321145e-05, array([0.01986497, 0.00646171]))\n",
      "(3.7925191296536026e-05, array([0.02540805, 0.03055061]))\n",
      "(3.7925191296536026e-05, array([0.02540805, 0.03055061]))\n",
      "(8.447486899575018e-06, array([-0.00608309, -0.00041743]))\n",
      "(3.668035642965702e-07, array([-0.00206842, -0.00279129]))\n",
      "(3.668035642965702e-07, array([-0.00206842, -0.00279129]))\n",
      "(8.88960976600293e-09, array([-0.00017343, -0.00033255]))\n",
      "(4.44903964031969e-09, array([-0.00029203, -0.00033662]))\n",
      "(4.44903964031969e-09, array([-0.00029203, -0.00033662]))\n",
      "(2.7580731620838547e-09, array([-0.00025715, -0.00026611]))\n",
      "(6.811257864762654e-10, array([0.00011102, 0.0001307 ]))\n",
      "(3.5452942909833866e-11, array([-3.02295736e-05, -2.68198111e-05]))\n",
      "\n",
      "\n",
      "best solution\n",
      "([fitness], [solution])\n",
      "(3.5452942909833866e-11, array([-3.02295736e-05, -2.68198111e-05]))\n",
      "opt_func: <function matyas at 0x7ff83ba4e790>, constraints: [[-10.0, 10.0], [-10.0, 10.0]]\n",
      "b: 0.5\n",
      "a: 4.163336342344337e-16, a_step: 0.06666666666666667\n",
      "maximize: False\n",
      "Attack Coefficient:  0.3\n",
      "RunTime: 0:00:08.695294\n"
     ]
    },
    {
     "data": {
      "image/png": "[encoded data removed]",
      "text/plain": [
       "<Figure size 432x288 with 1 Axes>"
      ]
     },
     "metadata": {
      "needs_background": "light"
     },
     "output_type": "display_data"
    },
    {
     "name": "stdout",
     "output_type": "stream",
     "text": [
      "\n",
      "\n",
      "\n"
     ]
    }
   ],
   "source": [
    "if __name__ == '__main__':\n",
    "    main()\n"
   ]
  },
  {
   "cell_type": "code",
   "execution_count": null,
   "id": "8353787a",
   "metadata": {},
   "outputs": [],
   "source": []
  },
  {
   "cell_type": "code",
   "execution_count": null,
   "id": "b2c68584",
   "metadata": {},
   "outputs": [],
   "source": []
  }
 ],
 "metadata": {
  "kernelspec": {
   "display_name": "Python 3",
   "language": "python",
   "name": "python3"
  },
  "language_info": {
   "codemirror_mode": {
    "name": "ipython",
    "version": 3
   },
   "file_extension": ".py",
   "mimetype": "text/x-python",
   "name": "python",
   "nbconvert_exporter": "python",
   "pygments_lexer": "ipython3",
   "version": "3.9.5"
  }
 },
 "nbformat": 4,
 "nbformat_minor": 5
}
